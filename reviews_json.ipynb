{
 "cells": [
  {
   "cell_type": "code",
   "execution_count": 9,
   "id": "ed10b931-a619-4a6b-af05-36fd77973702",
   "metadata": {},
   "outputs": [],
   "source": [
    "from pyspark.sql import SparkSession\n",
    "from pyspark.sql.functions import col, avg\n",
    "from pyspark.sql.types import StructType, StructField, StringType, IntegerType, DoubleType\n",
    "\n",
    "spark = SparkSession.builder \\\n",
    "        .appName(\"Debugging Worker Errors\") \\\n",
    "        .master(\"local[*]\") \\\n",
    "        .getOrCreate()"
   ]
  },
  {
   "cell_type": "code",
   "execution_count": 35,
   "id": "fe2183af-07b8-4829-9b9f-02bf52d9e720",
   "metadata": {},
   "outputs": [
    {
     "name": "stdout",
     "output_type": "stream",
     "text": [
      "root\n",
      " |-- department: string (nullable = true)\n",
      " |-- id: long (nullable = true)\n",
      " |-- name: string (nullable = true)\n",
      " |-- salary: double (nullable = true)\n",
      "\n",
      "+-----------+---+-------+---------+\n",
      "| department| id|   name|   salary|\n",
      "+-----------+---+-------+---------+\n",
      "|Engineering|  1|  Alice| 120000.5|\n",
      "|         HR|  2|    Bob|  90000.0|\n",
      "|    Finance|  3|Charlie|110000.75|\n",
      "+-----------+---+-------+---------+\n",
      "\n"
     ]
    }
   ],
   "source": [
    "# -- 1\n",
    "# Get the DF for the CSV file\n",
    "data = './data/employees_1.json'\n",
    "\n",
    "# Define the schema\n",
    "schema = StructType([\n",
    "    StructField(\"id\", IntegerType(), True),\n",
    "    StructField(\"name\", StringType(), True),\n",
    "    StructField(\"department\", StringType(), True),\n",
    "    StructField(\"salary\", DoubleType(), True)\n",
    "])\n",
    "\n",
    "# Read the JSON file with the schema\n",
    "# df = spark.read.option(\"multiline\", \"true\").json(data)\n",
    "df = spark.read.schema(schema).option(\"multiline\", \"true\").json(data)\n",
    "\n",
    "df.printSchema()\n",
    "\n",
    "# Show the data\n",
    "df.show()\n"
   ]
  },
  {
   "cell_type": "code",
   "execution_count": 39,
   "id": "dd58750c",
   "metadata": {},
   "outputs": [
    {
     "name": "stdout",
     "output_type": "stream",
     "text": [
      "+---+-------+----------+---------+\n",
      "| id|   name|department|   salary|\n",
      "+---+-------+----------+---------+\n",
      "|  2|    Bob|        HR|  90000.0|\n",
      "|  3|Charlie|   Finance|110000.75|\n",
      "+---+-------+----------+---------+\n",
      "\n"
     ]
    }
   ],
   "source": [
    "# -- 2\n",
    "# Define the schema with nullable fields\n",
    "schema = StructType([\n",
    "    StructField(\"id\", IntegerType(), True),\n",
    "    StructField(\"name\", StringType(), True),\n",
    "    StructField(\"department\", StringType(), True),\n",
    "    StructField(\"salary\", DoubleType(), True)\n",
    "])\n",
    "\n",
    "# Read the JSON file\n",
    "df = spark.read.schema(schema).option(\"multiline\", \"true\").json(\"data/employees_1.json\")\n",
    "\n",
    "# Show the rows where name is null\n",
    "df.filter(df[\"name\"].isNotNull()).show()"
   ]
  },
  {
   "cell_type": "code",
   "execution_count": 40,
   "id": "7417fa54",
   "metadata": {},
   "outputs": [
    {
     "name": "stdout",
     "output_type": "stream",
     "text": [
      "+---+-------+-----------------+\n",
      "|id |name   |details          |\n",
      "+---+-------+-----------------+\n",
      "|1  |Alice  |{30, New York}   |\n",
      "|2  |Bob    |{40, Los Angeles}|\n",
      "|3  |Charlie|{35, Chicago}    |\n",
      "+---+-------+-----------------+\n",
      "\n",
      "+---+-----------+\n",
      "| id|       city|\n",
      "+---+-----------+\n",
      "|  1|   New York|\n",
      "|  2|Los Angeles|\n",
      "|  3|    Chicago|\n",
      "+---+-----------+\n",
      "\n"
     ]
    }
   ],
   "source": [
    "# -- 3\n",
    "# Define the schema for nested JSON\n",
    "schema = StructType([\n",
    "    StructField(\"id\", IntegerType(), True),\n",
    "    StructField(\"name\", StringType(), True),\n",
    "    StructField(\"details\", StructType([\n",
    "        StructField(\"age\", IntegerType(), True),\n",
    "        StructField(\"city\", StringType(), True)\n",
    "    ]))\n",
    "])\n",
    "\n",
    "# Read the JSON file\n",
    "df = spark.read.schema(schema).option(\"multiline\", \"true\").json(\"data/employees_2.json\")\n",
    "\n",
    "# Show the data\n",
    "df.show(truncate=False)\n",
    "\n",
    "# Extract the 'city' from 'details'\n",
    "df.select(\"id\", \"details.city\").show()"
   ]
  },
  {
   "cell_type": "code",
   "execution_count": 47,
   "id": "67c87e15",
   "metadata": {},
   "outputs": [
    {
     "name": "stdout",
     "output_type": "stream",
     "text": [
      "+---+-------+------------------+---+-----------+\n",
      "| id|   name|               col|age|       city|\n",
      "+---+-------+------------------+---+-----------+\n",
      "|  1|  Alice|     Project Alpha| 30|   New York|\n",
      "|  1|  Alice|      Project Beta| 30|   New York|\n",
      "|  2|    Bob|Employee Relations| 40|Los Angeles|\n",
      "|  2|    Bob| Recruitment Drive| 40|Los Angeles|\n",
      "|  3|Charlie|  Quarterly Budget| 35|    Chicago|\n",
      "|  3|Charlie|     Annual Report| 35|    Chicago|\n",
      "+---+-------+------------------+---+-----------+\n",
      "\n"
     ]
    }
   ],
   "source": [
    "# -- 4\n",
    "from pyspark.sql.functions import explode\n",
    "from pyspark.sql.types import ArrayType\n",
    "\n",
    "# Define the schema\n",
    "schema = StructType([\n",
    "    StructField(\"id\", IntegerType(), True),\n",
    "    StructField(\"name\", StringType(), True),\n",
    "    StructField(\"projects\", ArrayType(StringType()), True),\n",
    "    StructField(\"details\", StructType([\n",
    "        StructField(\"age\", IntegerType(), True),\n",
    "        StructField(\"city\", StringType(), True)\n",
    "    ]))\n",
    "])\n",
    "\n",
    "# Read the JSON file\n",
    "df = spark.read.schema(schema).option(\"multiline\", \"true\").json(\"data/employees_3.json\")\n",
    "\n",
    "# Explode the array\n",
    "exploded_df = df.select(\"id\", \"name\", explode(\"projects\"), \"details.age\", \"details.city\")\n",
    "exploded_df.show()"
   ]
  }
 ],
 "metadata": {
  "kernelspec": {
   "display_name": "Python 3 (ipykernel)",
   "language": "python",
   "name": "python3"
  },
  "language_info": {
   "codemirror_mode": {
    "name": "ipython",
    "version": 3
   },
   "file_extension": ".py",
   "mimetype": "text/x-python",
   "name": "python",
   "nbconvert_exporter": "python",
   "pygments_lexer": "ipython3",
   "version": "3.12.3"
  }
 },
 "nbformat": 4,
 "nbformat_minor": 5
}
