{
 "cells": [
  {
   "cell_type": "code",
   "execution_count": 9,
   "id": "ed10b931-a619-4a6b-af05-36fd77973702",
   "metadata": {},
   "outputs": [],
   "source": [
    "from pyspark.sql import SparkSession\n",
    "from pyspark.sql.functions import col, avg\n",
    "\n",
    "spark_session = SparkSession.builder \\\n",
    "        .appName(\"Debugging Worker Errors\") \\\n",
    "        .master(\"local[*]\") \\\n",
    "        .getOrCreate()\n",
    "\n",
    "# Get the DF for the CSV file\n",
    "data = './data/reviews-250.csv'"
   ]
  },
  {
   "cell_type": "code",
   "execution_count": 10,
   "id": "fe2183af-07b8-4829-9b9f-02bf52d9e720",
   "metadata": {},
   "outputs": [
    {
     "name": "stdout",
     "output_type": "stream",
     "text": [
      "+---+----------+--------------+--------------------+--------------------+----------------------+-----+----------+--------------------+--------------------+\n",
      "| Id| ProductId|        UserId|         ProfileName|HelpfulnessNumerator|HelpfulnessDenominator|Score|      Time|             Summary|                Text|\n",
      "+---+----------+--------------+--------------------+--------------------+----------------------+-----+----------+--------------------+--------------------+\n",
      "|  1|B001E4KFG0|A3SGXH7AUHU8GW|          delmartian|                   1|                     1|    5|1303862400|Good Quality Dog ...|I have bought sev...|\n",
      "|  2|B00813GRG4|A1D87F6ZCVE5NK|              dll pa|                   0|                     0|    1|1346976000|   Not as Advertised|\"Product arrived ...|\n",
      "|  3|B000LQOCH0| ABXLMWJIXXAIN|\"Natalia Corres \"...|                   1|                     1|    4|1219017600|\"\"\"Delight\"\" says...|\"This is a confec...|\n",
      "|  4|B000UA0QIQ|A395BORC6FGVXV|                Karl|                   3|                     3|    2|1307923200|      Cough Medicine|If you are lookin...|\n",
      "|  5|B006K2ZZ7K|A1UQRSCLF8GW1T|\"Michael D. Bigha...|                   0|                     0|    5|1350777600|         Great taffy|Great taffy at a ...|\n",
      "+---+----------+--------------+--------------------+--------------------+----------------------+-----+----------+--------------------+--------------------+\n",
      "only showing top 5 rows\n",
      "\n"
     ]
    }
   ],
   "source": [
    "# ---- DATAFRAME ----\n",
    "# 1 - Load CSV file as a DataFrame\n",
    "df = spark_session.read.csv(data, header=True, inferSchema=True)\n",
    "# Show top 5 rows\n",
    "df.show(5)\n",
    "obj = df.collect()"
   ]
  },
  {
   "cell_type": "code",
   "execution_count": 11,
   "id": "fea2e62f",
   "metadata": {},
   "outputs": [
    {
     "name": "stdout",
     "output_type": "stream",
     "text": [
      "+---+----------+--------------+--------------------+--------------------+----------------------+-----+----------+--------------------+--------------------+\n",
      "| Id| ProductId|        UserId|         ProfileName|HelpfulnessNumerator|HelpfulnessDenominator|Score|      Time|             Summary|                Text|\n",
      "+---+----------+--------------+--------------------+--------------------+----------------------+-----+----------+--------------------+--------------------+\n",
      "|  1|B001E4KFG0|A3SGXH7AUHU8GW|          delmartian|                   1|                     1|    5|1303862400|Good Quality Dog ...|I have bought sev...|\n",
      "|  5|B006K2ZZ7K|A1UQRSCLF8GW1T|\"Michael D. Bigha...|                   0|                     0|    5|1350777600|         Great taffy|Great taffy at a ...|\n",
      "|  7|B006K2ZZ7K|A1SP2KVKFXXRU1|   David C. Sullivan|                   0|                     0|    5|1340150400|Great!  Just as g...|This saltwater ta...|\n",
      "|  8|B006K2ZZ7K|A3JRGQVEQN31IQ|  Pamela G. Williams|                   0|                     0|    5|1336003200|Wonderful, tasty ...|This taffy is so ...|\n",
      "|  9|B000E7L2R4|A1MZYO9TZK0BBI|            R. James|                   1|                     1|    5|1322006400|          Yay Barley|Right now I'm mos...|\n",
      "| 10|B00171APVA|A21BT40VZCCYT4|       Carol A. Reed|                   0|                     0|    5|1351209600|    Healthy Dog Food|This is a very he...|\n",
      "| 11|B0001PB9FE|A3HDKO7OW0QNK4|        Canadian Fan|                   1|                     1|    5|1107820800|The Best Hot Sauc...|I don't know if i...|\n",
      "| 12|B0009XLVG0|A2725IB4YY9JEB|\"A Poeng \"\"Sparky...|                   4|                     4|    5|1282867200|\"My cats LOVE thi...|One of my boys ne...|\n",
      "| 15|B001GVISJM|A2MUGFV2TDQ47K|\"Lynrie \"\"Oh HELL...|                   4|                     5|    5|1268352000|Strawberry Twizzl...|The Strawberry Tw...|\n",
      "| 16|B001GVISJM|A1CZX3CP8IKQIJ|        Brian A. Lee|                   4|                     5|    5|1262044800|Lots of twizzlers...|My daughter loves...|\n",
      "| 18|B001GVISJM| AFKW14U97Z6QO|               Becca|                   0|                     0|    5|1345075200|            Love it!|I am very satisfi...|\n",
      "| 19|B001GVISJM|A2A9X58G2GTBLP|             Wolfee1|                   0|                     0|    5|1324598400|  GREAT SWEET CANDY!|Twizzlers, Strawb...|\n",
      "| 20|B001GVISJM|A3IV7CL2C13K2U|                Greg|                   0|                     0|    5|1318032000|Home delivered tw...|Candy was deliver...|\n",
      "| 21|B001GVISJM|A1WO0KGLPR5PV6|            mom2emma|                   0|                     0|    5|1313452800|        Always fresh|My husband is a T...|\n",
      "| 22|B001GVISJM| AZOF9E17RGZH8|      Tammy Anderson|                   0|                     0|    5|1308960000|           TWIZZLERS|\"I bought these f...|\n",
      "| 23|B001GVISJM| ARYVQL4N737A1|       Charles Brown|                   0|                     0|    5|1304899200|  Delicious product!|I can remember bu...|\n",
      "| 24|B001GVISJM| AJ613OLZZUG7V|              Mare's|                   0|                     0|    5|1304467200|           Twizzlers|I love this candy...|\n",
      "| 25|B001GVISJM|A22P2J09NJ9HKE|\"S. Cabanaugh \"\"j...|                   0|                     0|    5|1295481600|Please sell these...|I have lived out ...|\n",
      "| 26|B001GVISJM|A3FONPR03H3PJS|\"Deborah S. Linze...|                   0|                     0|    5|1288310400|Twizzlers - Straw...|\"Product received...|\n",
      "| 29|B00144C10S|A2F4LZVGFLD1OB|              DaisyH|                   0|                     0|    5|1338854400|              YUMMY!|I got this for my...|\n",
      "+---+----------+--------------+--------------------+--------------------+----------------------+-----+----------+--------------------+--------------------+\n",
      "only showing top 20 rows\n",
      "\n"
     ]
    }
   ],
   "source": [
    "# 2 - Filter reviews with a Score of 5\n",
    "high_rating_df = df.filter(df[\"Score\"] == 5)\n",
    "high_rating_df.show()"
   ]
  },
  {
   "cell_type": "code",
   "execution_count": 12,
   "id": "1d5340d9",
   "metadata": {},
   "outputs": [
    {
     "name": "stdout",
     "output_type": "stream",
     "text": [
      "+----------+-----+--------------------+\n",
      "| ProductId|Score|             Summary|\n",
      "+----------+-----+--------------------+\n",
      "|B001E4KFG0|    5|Good Quality Dog ...|\n",
      "|B00813GRG4|    1|   Not as Advertised|\n",
      "|B000LQOCH0|    4|\"\"\"Delight\"\" says...|\n",
      "|B000UA0QIQ|    2|      Cough Medicine|\n",
      "|B006K2ZZ7K|    5|         Great taffy|\n",
      "+----------+-----+--------------------+\n",
      "only showing top 5 rows\n",
      "\n",
      "{'ProductId': 'B001E4KFG0', 'Score': 5, 'Summary': 'Good Quality Dog Food'}\n"
     ]
    }
   ],
   "source": [
    "# 3 - Select specific columns\n",
    "selected_columns_df = df.select(\"ProductId\", \"Score\", \"Summary\")\n",
    "selected_columns_df.show(5)\n",
    "print(selected_columns_df.collect()[0].asDict())"
   ]
  },
  {
   "cell_type": "code",
   "execution_count": 13,
   "id": "cb132ba9",
   "metadata": {},
   "outputs": [
    {
     "name": "stdout",
     "output_type": "stream",
     "text": [
      "+---+----------+--------------+--------------------+--------------------+----------------------+-----+----------+--------------------+--------------------+----------------+\n",
      "| Id| ProductId|        UserId|         ProfileName|HelpfulnessNumerator|HelpfulnessDenominator|Score|      Time|             Summary|                Text|HelpfulnessRatio|\n",
      "+---+----------+--------------+--------------------+--------------------+----------------------+-----+----------+--------------------+--------------------+----------------+\n",
      "|  1|B001E4KFG0|A3SGXH7AUHU8GW|          delmartian|                   1|                     1|    5|1303862400|Good Quality Dog ...|I have bought sev...|             1.0|\n",
      "|  2|B00813GRG4|A1D87F6ZCVE5NK|              dll pa|                   0|                     0|    1|1346976000|   Not as Advertised|\"Product arrived ...|            NULL|\n",
      "|  3|B000LQOCH0| ABXLMWJIXXAIN|\"Natalia Corres \"...|                   1|                     1|    4|1219017600|\"\"\"Delight\"\" says...|\"This is a confec...|             1.0|\n",
      "|  4|B000UA0QIQ|A395BORC6FGVXV|                Karl|                   3|                     3|    2|1307923200|      Cough Medicine|If you are lookin...|             1.0|\n",
      "|  5|B006K2ZZ7K|A1UQRSCLF8GW1T|\"Michael D. Bigha...|                   0|                     0|    5|1350777600|         Great taffy|Great taffy at a ...|            NULL|\n",
      "+---+----------+--------------+--------------------+--------------------+----------------------+-----+----------+--------------------+--------------------+----------------+\n",
      "only showing top 5 rows\n",
      "\n"
     ]
    }
   ],
   "source": [
    "# 4 - Add HelpfulnessRatio column\n",
    "df = df.withColumn(\n",
    "    \"HelpfulnessRatio\",\n",
    "    (col(\"HelpfulnessNumerator\") / col(\"HelpfulnessDenominator\")).cast(\"double\")\n",
    ")\n",
    "df.show(5)"
   ]
  },
  {
   "cell_type": "code",
   "execution_count": 14,
   "id": "56cd3508",
   "metadata": {},
   "outputs": [
    {
     "name": "stdout",
     "output_type": "stream",
     "text": [
      "+---+----------+--------------+--------------------+--------------------+----------------------+-----+----------+--------------------+--------------------+----------------+\n",
      "| Id| ProductId|        UserId|         ProfileName|HelpfulnessNumerator|HelpfulnessDenominator|Score|      Time|             Summary|                Text|HelpfulnessRatio|\n",
      "+---+----------+--------------+--------------------+--------------------+----------------------+-----+----------+--------------------+--------------------+----------------+\n",
      "|  1|B001E4KFG0|A3SGXH7AUHU8GW|          delmartian|                   1|                     1|    5|1303862400|Good Quality Dog ...|I have bought sev...|             1.0|\n",
      "|  3|B000LQOCH0| ABXLMWJIXXAIN|\"Natalia Corres \"...|                   1|                     1|    4|1219017600|\"\"\"Delight\"\" says...|\"This is a confec...|             1.0|\n",
      "|  4|B000UA0QIQ|A395BORC6FGVXV|                Karl|                   3|                     3|    2|1307923200|      Cough Medicine|If you are lookin...|             1.0|\n",
      "|  9|B000E7L2R4|A1MZYO9TZK0BBI|            R. James|                   1|                     1|    5|1322006400|          Yay Barley|Right now I'm mos...|             1.0|\n",
      "| 11|B0001PB9FE|A3HDKO7OW0QNK4|        Canadian Fan|                   1|                     1|    5|1107820800|The Best Hot Sauc...|I don't know if i...|             1.0|\n",
      "+---+----------+--------------+--------------------+--------------------+----------------------+-----+----------+--------------------+--------------------+----------------+\n",
      "only showing top 5 rows\n",
      "\n"
     ]
    }
   ],
   "source": [
    "# 5 - Filter rows with HelpfulnessDenominator > 0\n",
    "valid_helpfulness_df = df.filter(df[\"HelpfulnessDenominator\"] > 0)\n",
    "valid_helpfulness_df.show(5)"
   ]
  },
  {
   "cell_type": "code",
   "execution_count": 15,
   "id": "e8424596",
   "metadata": {},
   "outputs": [
    {
     "name": "stdout",
     "output_type": "stream",
     "text": [
      "Distinct Users: 247\n"
     ]
    }
   ],
   "source": [
    "# 6 - Count distinct UserId values\n",
    "distinct_users_count = df.select(\"UserId\").distinct().count()\n",
    "print(f\"Distinct Users: {distinct_users_count}\")"
   ]
  },
  {
   "cell_type": "code",
   "execution_count": null,
   "id": "0af79298",
   "metadata": {},
   "outputs": [],
   "source": [
    "# 20 Calculate average Score per ProductId\n",
    "from pyspark.sql.functions import avg\n",
    "\n",
    "average_score_df = df.groupBy(\"ProductId\").agg(avg(\"Score\").alias(\"AverageScore\"))\n",
    "average_score_df.show(5)"
   ]
  },
  {
   "cell_type": "code",
   "execution_count": null,
   "id": "4995db9a",
   "metadata": {},
   "outputs": [],
   "source": []
  }
 ],
 "metadata": {
  "kernelspec": {
   "display_name": "Python 3 (ipykernel)",
   "language": "python",
   "name": "python3"
  },
  "language_info": {
   "codemirror_mode": {
    "name": "ipython",
    "version": 3
   },
   "file_extension": ".py",
   "mimetype": "text/x-python",
   "name": "python",
   "nbconvert_exporter": "python",
   "pygments_lexer": "ipython3",
   "version": "3.12.3"
  }
 },
 "nbformat": 4,
 "nbformat_minor": 5
}
